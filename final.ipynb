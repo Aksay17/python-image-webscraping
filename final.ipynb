{
 "cells": [
  {
   "cell_type": "code",
   "execution_count": 17,
   "id": "a7d50706",
   "metadata": {},
   "outputs": [],
   "source": [
    "import io\n",
    "from pathlib import Path\n",
    "import hashlib\n",
    "import pandas as pd\n",
    "import requests\n",
    "from bs4 import BeautifulSoup\n",
    "from PIL import Image\n",
    "from selenium import webdriver\n",
    "import re"
   ]
  },
  {
   "cell_type": "code",
   "execution_count": 18,
   "id": "05bf8c57",
   "metadata": {},
   "outputs": [],
   "source": [
    "# Function to fetch the content of a specific product's webpage using Selenium.\n",
    "def get_content_from_product_url(product_id):\n",
    "    url = f\"https://www.daraz.pk/products/-i{product_id}-s1426567638.html\"  # Construct the URL with the product ID.\n",
    "    driver = webdriver.Chrome()  # You may need to specify the executable path if Chrome is not in the system's PATH.\n",
    "    driver.get(url)\n",
    "    page_content = driver.page_source\n",
    "    driver.quit()\n",
    "    return page_content"
   ]
  },
  {
   "cell_type": "code",
   "execution_count": 19,
   "id": "6ecf35b9",
   "metadata": {},
   "outputs": [],
   "source": [
    "# Function to parse image URLs from the specified HTML element.\n",
    "def parse_image_urls(content, element_class):\n",
    "    soup = BeautifulSoup(content, 'html.parser')\n",
    "    results = []\n",
    "    for div in soup.find_all('div', class_=element_class):\n",
    "        for img in div.find_all('img'):\n",
    "            src = img.get('src')\n",
    "            if src:\n",
    "                results.append(src)\n",
    "    return results"
   ]
  },
  {
   "cell_type": "code",
   "execution_count": 20,
   "id": "802c38cc",
   "metadata": {},
   "outputs": [],
   "source": [
    "# Function to save image URLs with their respective product IDs to an Excel file.\n",
    "def save_urls_to_excel(product_ids, image_urls):\n",
    "    df = pd.DataFrame({\"Product ID\": product_ids, \"Image URL\": image_urls})\n",
    "    df.to_excel(\"product_img.xlsx\", index=False)  # Remove the 'encoding' argument."
   ]
  },
  {
   "cell_type": "code",
   "execution_count": 21,
   "id": "9ff46da1",
   "metadata": {},
   "outputs": [],
   "source": [
    "# Function to download and save images to a specified directory.\n",
    "def get_and_save_image_to_file(image_url, output_dir):\n",
    "    response = requests.get(image_url, headers={\"User-agent\": \"Mozilla/5.0 (Windows NT 10.0; Win64; x64) AppleWebKit/537.36 (KHTML, like Gecko) Chrome/113.0.0.0 Safari/537.36\"})\n",
    "    image_content = response.content\n",
    "    image_file = io.BytesIO(image_content)\n",
    "    image = Image.open(image_file).convert(\"RGB\")\n",
    "    filename = hashlib.sha1(image_content).hexdigest()[:10] + \".png\"\n",
    "    file_path = output_dir / filename\n",
    "    image.save(file_path, \"PNG\", quality=80)"
   ]
  },
  {
   "cell_type": "code",
   "execution_count": 22,
   "id": "2e93f580",
   "metadata": {},
   "outputs": [],
   "source": [
    "# Main function\n",
    "# C:\\scra\n",
    "# Main function\n",
    "def main(product_ids):\n",
    "    product_ids_with_urls = []  # Create a list to store product IDs with corresponding image URLs.\n",
    "    image_urls = []\n",
    "    \n",
    "    for product_id in product_ids:\n",
    "        content = get_content_from_product_url(product_id)\n",
    "        product_image_urls = parse_image_urls(\n",
    "            content=content, element_class=\"html-content detail-content\",  # Replace with the actual class name.\n",
    "        )\n",
    "        image_urls.extend(product_image_urls)\n",
    "        \n",
    "        # Ensure that the product_ids and image_urls lists have the same length.\n",
    "        num_image_urls = len(product_image_urls)\n",
    "        product_ids_with_urls.extend([product_id] * num_image_urls)\n",
    "\n",
    "    save_urls_to_excel(product_ids_with_urls, image_urls)\n",
    "\n",
    "    for image_url in image_urls:\n",
    "        get_and_save_image_to_file(\n",
    "            image_url, output_dir=Path(\"C:\\scra\"),  # Replace with the desired output directory.\n",
    "        )\n"
   ]
  },
  {
   "cell_type": "code",
   "execution_count": 23,
   "id": "3d7206d1",
   "metadata": {},
   "outputs": [],
   "source": [
    "if __name__ == \"__main__\":\n",
    "    product_ids = [\"371128783\", \"433482152\"]  # Add the list of product IDs you want to search for.\n",
    "    main(product_ids)"
   ]
  },
  {
   "cell_type": "code",
   "execution_count": null,
   "id": "7c6ef08c",
   "metadata": {},
   "outputs": [],
   "source": []
  }
 ],
 "metadata": {
  "kernelspec": {
   "display_name": "Python 3 (ipykernel)",
   "language": "python",
   "name": "python3"
  },
  "language_info": {
   "codemirror_mode": {
    "name": "ipython",
    "version": 3
   },
   "file_extension": ".py",
   "mimetype": "text/x-python",
   "name": "python",
   "nbconvert_exporter": "python",
   "pygments_lexer": "ipython3",
   "version": "3.11.5"
  }
 },
 "nbformat": 4,
 "nbformat_minor": 5
}
